{
 "cells": [
  {
   "cell_type": "code",
   "execution_count": 20,
   "metadata": {},
   "outputs": [],
   "source": [
    "import os\n",
    "import ccxt\n",
    "from dataclasses import dataclass\n",
    "import dataclasses\n",
    "import typing\n",
    "import datetime\n",
    "import numpy as np\n",
    "from math import floor\n",
    "liquid = ccxt.liquid({\n",
    "    'apiKey': '1800187',\n",
    "    'secret': 'XU5Uf9Dc15SNWD4POVhu1rQOGrIuToO/01AI4nXrOKfBOt4bM4827U6E5fYnH08pnGaRVZ13GnSdQajfNrtpFg=='\n",
    "})\n"
   ]
  },
  {
   "cell_type": "code",
   "execution_count": 6,
   "metadata": {},
   "outputs": [],
   "source": [
    "raw_data = liquid.fetch_balance()"
   ]
  },
  {
   "cell_type": "code",
   "execution_count": 16,
   "metadata": {},
   "outputs": [
    {
     "data": {
      "text/plain": [
       "[{'info': {'id': 390491064,\n",
       "   'quantity': '0.01',\n",
       "   'price': '64670.0',\n",
       "   'taker_side': 'sell',\n",
       "   'created_at': 1608672330,\n",
       "   'timestamp': '1608672330.27788',\n",
       "   'my_side': 'buy',\n",
       "   'order_id': 3664950929,\n",
       "   'client_order_id': None,\n",
       "   'pnl': None,\n",
       "   'target': 'spot'},\n",
       "  'id': '390491064',\n",
       "  'order': '3664950929',\n",
       "  'timestamp': 1608672330000,\n",
       "  'datetime': '2020-12-22T21:25:30.000Z',\n",
       "  'symbol': 'ETH/JPY',\n",
       "  'type': None,\n",
       "  'side': 'buy',\n",
       "  'takerOrMaker': 'maker',\n",
       "  'price': 64670.0,\n",
       "  'amount': 0.01,\n",
       "  'cost': 646.7,\n",
       "  'fee': None}]"
      ]
     },
     "execution_count": 16,
     "metadata": {},
     "output_type": "execute_result"
    }
   ],
   "source": [
    "liquid.fetch_my_trades(symbol = 'ETH/JPY', limit = 1, since = liquid.milliseconds () - 86400000* 30)"
   ]
  },
  {
   "cell_type": "code",
   "execution_count": 15,
   "metadata": {},
   "outputs": [
    {
     "data": {
      "text/plain": [
       "1606081080416"
      ]
     },
     "execution_count": 15,
     "metadata": {},
     "output_type": "execute_result"
    }
   ],
   "source": [
    "liquid.milliseconds () - 86400000* 30"
   ]
  },
  {
   "cell_type": "code",
   "execution_count": 17,
   "metadata": {},
   "outputs": [],
   "source": [
    "exchange = liquid"
   ]
  },
  {
   "cell_type": "code",
   "execution_count": 48,
   "metadata": {},
   "outputs": [
    {
     "data": {
      "text/html": [
       "<div>\n",
       "<style scoped>\n",
       "    .dataframe tbody tr th:only-of-type {\n",
       "        vertical-align: middle;\n",
       "    }\n",
       "\n",
       "    .dataframe tbody tr th {\n",
       "        vertical-align: top;\n",
       "    }\n",
       "\n",
       "    .dataframe thead th {\n",
       "        text-align: right;\n",
       "    }\n",
       "</style>\n",
       "<table border=\"1\" class=\"dataframe\">\n",
       "  <thead>\n",
       "    <tr style=\"text-align: right;\">\n",
       "      <th></th>\n",
       "      <th>utc</th>\n",
       "      <th>time</th>\n",
       "      <th>type</th>\n",
       "      <th>amount</th>\n",
       "      <th>price</th>\n",
       "      <th>fee</th>\n",
       "    </tr>\n",
       "  </thead>\n",
       "  <tbody>\n",
       "  </tbody>\n",
       "</table>\n",
       "</div>"
      ],
      "text/plain": [
       "Empty DataFrame\n",
       "Columns: [utc, time, type, amount, price, fee]\n",
       "Index: []"
      ]
     },
     "execution_count": 48,
     "metadata": {},
     "output_type": "execute_result"
    }
   ],
   "source": [
    "df = pd.DataFrame(columns=['utc','time','type','amount','price','fee'])  \n",
    "df"
   ]
  },
  {
   "cell_type": "code",
   "execution_count": 46,
   "metadata": {},
   "outputs": [],
   "source": [
    "import pandas as pd"
   ]
  },
  {
   "cell_type": "code",
   "execution_count": 57,
   "metadata": {},
   "outputs": [],
   "source": [
    "df.loc[len(df.index)] = x.split(\",\")"
   ]
  },
  {
   "cell_type": "code",
   "execution_count": 58,
   "metadata": {},
   "outputs": [
    {
     "data": {
      "text/html": [
       "<div>\n",
       "<style scoped>\n",
       "    .dataframe tbody tr th:only-of-type {\n",
       "        vertical-align: middle;\n",
       "    }\n",
       "\n",
       "    .dataframe tbody tr th {\n",
       "        vertical-align: top;\n",
       "    }\n",
       "\n",
       "    .dataframe thead th {\n",
       "        text-align: right;\n",
       "    }\n",
       "</style>\n",
       "<table border=\"1\" class=\"dataframe\">\n",
       "  <thead>\n",
       "    <tr style=\"text-align: right;\">\n",
       "      <th></th>\n",
       "      <th>utc</th>\n",
       "      <th>time</th>\n",
       "      <th>type</th>\n",
       "      <th>amount</th>\n",
       "      <th>price</th>\n",
       "      <th>fee</th>\n",
       "    </tr>\n",
       "  </thead>\n",
       "  <tbody>\n",
       "    <tr>\n",
       "      <th>0</th>\n",
       "      <td>1608672330000</td>\n",
       "      <td>2020-12-22 21:25:30.000000</td>\n",
       "      <td>buy</td>\n",
       "      <td>0.01</td>\n",
       "      <td>64670.0</td>\n",
       "      <td>None</td>\n",
       "    </tr>\n",
       "  </tbody>\n",
       "</table>\n",
       "</div>"
      ],
      "text/plain": [
       "             utc                        time type amount    price   fee\n",
       "0  1608672330000  2020-12-22 21:25:30.000000  buy   0.01  64670.0  None"
      ]
     },
     "execution_count": 58,
     "metadata": {},
     "output_type": "execute_result"
    }
   ],
   "source": [
    "df"
   ]
  },
  {
   "cell_type": "code",
   "execution_count": 49,
   "metadata": {},
   "outputs": [],
   "source": [
    "x = '1608672330000,2020-12-22 21:25:30.000000,buy,0.01,64670.0,None'\n",
    "\n"
   ]
  },
  {
   "cell_type": "code",
   "execution_count": 41,
   "metadata": {},
   "outputs": [],
   "source": [
    "\n",
    "since = exchange.milliseconds () - 86400000  # -1 day from now\n",
    "# alternatively, fetch from a certain starting datetime\n",
    "# since = exchange.parse8601('2018-01-01T00:00:00Z')\n",
    "all_orders = []\n",
    "while since < exchange.milliseconds ():\n",
    "    symbol = 'ETH/JPY'  # change for your symbol\n",
    "    limit = 20  # change for your limit\n",
    "    orders =  exchange.fetch_my_trades(symbol, since, limit)\n",
    "    if len(orders) > 1:\n",
    "        since = orders[len(orders) - 1]['timestamp']\n",
    "        all_orders += orders\n",
    "    else:\n",
    "        break"
   ]
  },
  {
   "cell_type": "code",
   "execution_count": 43,
   "metadata": {},
   "outputs": [
    {
     "data": {
      "text/plain": [
       "[{'info': {'id': 390487213,\n",
       "   'quantity': '0.01',\n",
       "   'price': '64668.0',\n",
       "   'taker_side': 'sell',\n",
       "   'created_at': 1608670056,\n",
       "   'timestamp': '1608670056.168742',\n",
       "   'my_side': 'buy',\n",
       "   'order_id': 3664869801,\n",
       "   'client_order_id': None,\n",
       "   'pnl': None,\n",
       "   'target': 'spot'},\n",
       "  'id': '390487213',\n",
       "  'order': '3664869801',\n",
       "  'timestamp': 1608670056000,\n",
       "  'datetime': '2020-12-22T20:47:36.000Z',\n",
       "  'symbol': 'ETH/JPY',\n",
       "  'type': None,\n",
       "  'side': 'buy',\n",
       "  'takerOrMaker': 'maker',\n",
       "  'price': 64668.0,\n",
       "  'amount': 0.01,\n",
       "  'cost': 646.6800000000001,\n",
       "  'fee': None},\n",
       " {'info': {'id': 390488003,\n",
       "   'quantity': '0.01',\n",
       "   'price': '64685.0',\n",
       "   'taker_side': 'buy',\n",
       "   'created_at': 1608670393,\n",
       "   'timestamp': '1608670393.784328',\n",
       "   'my_side': 'sell',\n",
       "   'order_id': 3664887214,\n",
       "   'client_order_id': None,\n",
       "   'pnl': None,\n",
       "   'target': 'spot'},\n",
       "  'id': '390488003',\n",
       "  'order': '3664887214',\n",
       "  'timestamp': 1608670393000,\n",
       "  'datetime': '2020-12-22T20:53:13.000Z',\n",
       "  'symbol': 'ETH/JPY',\n",
       "  'type': None,\n",
       "  'side': 'sell',\n",
       "  'takerOrMaker': 'maker',\n",
       "  'price': 64685.0,\n",
       "  'amount': 0.01,\n",
       "  'cost': 646.85,\n",
       "  'fee': None},\n",
       " {'info': {'id': 390489869,\n",
       "   'quantity': '0.01',\n",
       "   'price': '64851.0',\n",
       "   'taker_side': 'buy',\n",
       "   'created_at': 1608671799,\n",
       "   'timestamp': '1608671799.469748',\n",
       "   'my_side': 'sell',\n",
       "   'order_id': 3664950942,\n",
       "   'client_order_id': None,\n",
       "   'pnl': None,\n",
       "   'target': 'spot'},\n",
       "  'id': '390489869',\n",
       "  'order': '3664950942',\n",
       "  'timestamp': 1608671799000,\n",
       "  'datetime': '2020-12-22T21:16:39.000Z',\n",
       "  'symbol': 'ETH/JPY',\n",
       "  'type': None,\n",
       "  'side': 'sell',\n",
       "  'takerOrMaker': 'maker',\n",
       "  'price': 64851.0,\n",
       "  'amount': 0.01,\n",
       "  'cost': 648.51,\n",
       "  'fee': None},\n",
       " {'info': {'id': 390491064,\n",
       "   'quantity': '0.01',\n",
       "   'price': '64670.0',\n",
       "   'taker_side': 'sell',\n",
       "   'created_at': 1608672330,\n",
       "   'timestamp': '1608672330.27788',\n",
       "   'my_side': 'buy',\n",
       "   'order_id': 3664950929,\n",
       "   'client_order_id': None,\n",
       "   'pnl': None,\n",
       "   'target': 'spot'},\n",
       "  'id': '390491064',\n",
       "  'order': '3664950929',\n",
       "  'timestamp': 1608672330000,\n",
       "  'datetime': '2020-12-22T21:25:30.000Z',\n",
       "  'symbol': 'ETH/JPY',\n",
       "  'type': None,\n",
       "  'side': 'buy',\n",
       "  'takerOrMaker': 'maker',\n",
       "  'price': 64670.0,\n",
       "  'amount': 0.01,\n",
       "  'cost': 646.7,\n",
       "  'fee': None}]"
      ]
     },
     "execution_count": 43,
     "metadata": {},
     "output_type": "execute_result"
    }
   ],
   "source": [
    "all_orders"
   ]
  },
  {
   "cell_type": "code",
   "execution_count": 25,
   "metadata": {},
   "outputs": [
    {
     "data": {
      "text/plain": [
       "1608673383616"
      ]
     },
     "execution_count": 25,
     "metadata": {},
     "output_type": "execute_result"
    }
   ],
   "source": [
    "exchange.milliseconds ()"
   ]
  },
  {
   "cell_type": "code",
   "execution_count": 39,
   "metadata": {},
   "outputs": [],
   "source": [
    "orders =  exchange.fetch_my_trades(symbol, since, limit)"
   ]
  },
  {
   "cell_type": "code",
   "execution_count": 40,
   "metadata": {},
   "outputs": [
    {
     "data": {
      "text/plain": [
       "1"
      ]
     },
     "execution_count": 40,
     "metadata": {},
     "output_type": "execute_result"
    }
   ],
   "source": [
    "len(orders)"
   ]
  },
  {
   "cell_type": "code",
   "execution_count": 37,
   "metadata": {},
   "outputs": [],
   "source": [
    "since = orders[len(orders) - 1]['timestamp']"
   ]
  },
  {
   "cell_type": "code",
   "execution_count": 38,
   "metadata": {},
   "outputs": [
    {
     "data": {
      "text/plain": [
       "1608672330000"
      ]
     },
     "execution_count": 38,
     "metadata": {},
     "output_type": "execute_result"
    }
   ],
   "source": [
    "since"
   ]
  },
  {
   "cell_type": "code",
   "execution_count": 21,
   "metadata": {},
   "outputs": [],
   "source": [
    "@dataclass\n",
    "class SymbolRisk:\n",
    "    qty: int\n",
    "    start_price: int"
   ]
  },
  {
   "cell_type": "code",
   "execution_count": 318,
   "metadata": {},
   "outputs": [
    {
     "data": {
      "text/plain": [
       "1.19"
      ]
     },
     "execution_count": 318,
     "metadata": {},
     "output_type": "execute_result"
    }
   ],
   "source": [
    "liquid.fetch_balance()['total']['ETH']"
   ]
  },
  {
   "cell_type": "code",
   "execution_count": 3,
   "metadata": {
    "collapsed": true,
    "jupyter": {
     "outputs_hidden": true
    }
   },
   "outputs": [
    {
     "data": {
      "text/plain": [
       "{'info': {'crypto_accounts': [{'id': 1753586,\n",
       "    'currency': 'QASH',\n",
       "    'balance': '0.00016671',\n",
       "    'reserved_balance': '0.0',\n",
       "    'pusher_channel': 'user_577085_account_qash',\n",
       "    'lowest_offer_interest_rate': None,\n",
       "    'highest_offer_interest_rate': None,\n",
       "    'address': '0xabec59529219066c213acaf8f2b93f2b32e61093',\n",
       "    'currency_symbol': 'Ꝗ',\n",
       "    'minimum_withdraw': None,\n",
       "    'currency_type': 'crypto'},\n",
       "   {'id': 1399983,\n",
       "    'currency': 'BTC',\n",
       "    'balance': '0.0',\n",
       "    'reserved_balance': '0.0',\n",
       "    'pusher_channel': 'user_577085_account_btc',\n",
       "    'lowest_offer_interest_rate': '0.00001',\n",
       "    'highest_offer_interest_rate': '0.00200',\n",
       "    'address': '0',\n",
       "    'currency_symbol': '₿',\n",
       "    'minimum_withdraw': '0.02',\n",
       "    'currency_type': 'crypto'},\n",
       "   {'id': 1399984,\n",
       "    'currency': 'ETH',\n",
       "    'balance': '1.49',\n",
       "    'reserved_balance': '0.0',\n",
       "    'pusher_channel': 'user_577085_account_eth',\n",
       "    'lowest_offer_interest_rate': '0.00001',\n",
       "    'highest_offer_interest_rate': '0.00200',\n",
       "    'address': '0xabec59529219066c213acaf8f2b93f2b32e61093',\n",
       "    'currency_symbol': 'Ξ',\n",
       "    'minimum_withdraw': '0.05',\n",
       "    'currency_type': 'crypto'},\n",
       "   {'id': 1529688,\n",
       "    'currency': 'XRP',\n",
       "    'balance': '0.0',\n",
       "    'reserved_balance': '0.0',\n",
       "    'pusher_channel': 'user_577085_account_xrp',\n",
       "    'lowest_offer_interest_rate': '0.00017',\n",
       "    'highest_offer_interest_rate': '0.00200',\n",
       "    'address': '0',\n",
       "    'currency_symbol': 'ρ',\n",
       "    'minimum_withdraw': None,\n",
       "    'currency_type': 'crypto'}],\n",
       "  'fiat_accounts': [{'id': 896013,\n",
       "    'currency': 'AUD',\n",
       "    'balance': '0.0',\n",
       "    'reserved_balance': '0.0',\n",
       "    'pusher_channel': 'user_577085_account_aud',\n",
       "    'lowest_offer_interest_rate': None,\n",
       "    'highest_offer_interest_rate': None,\n",
       "    'currency_symbol': 'AU$',\n",
       "    'send_to_btc_address': None,\n",
       "    'exchange_rate': '0.75532427867255316162515569522',\n",
       "    'currency_type': 'fiat'},\n",
       "   {'id': 945675,\n",
       "    'currency': 'JPY',\n",
       "    'balance': '28.83895',\n",
       "    'reserved_balance': '0.0',\n",
       "    'pusher_channel': 'user_577085_account_jpy',\n",
       "    'lowest_offer_interest_rate': None,\n",
       "    'highest_offer_interest_rate': None,\n",
       "    'currency_symbol': '¥',\n",
       "    'send_to_btc_address': None,\n",
       "    'exchange_rate': '0.00966205157352820194',\n",
       "    'currency_type': 'fiat'},\n",
       "   {'id': 900159,\n",
       "    'currency': 'USD',\n",
       "    'balance': '0.10013',\n",
       "    'reserved_balance': '0.0',\n",
       "    'pusher_channel': 'user_577085_account_usd',\n",
       "    'lowest_offer_interest_rate': None,\n",
       "    'highest_offer_interest_rate': None,\n",
       "    'currency_symbol': '$',\n",
       "    'send_to_btc_address': None,\n",
       "    'exchange_rate': '1.0',\n",
       "    'currency_type': 'fiat'}]},\n",
       " 'QASH': {'free': 0.00016671, 'used': 0.0, 'total': 0.00016671},\n",
       " 'BTC': {'free': 0.0, 'used': 0.0, 'total': 0.0},\n",
       " 'ETH': {'free': 1.49, 'used': 0.0, 'total': 1.49},\n",
       " 'XRP': {'free': 0.0, 'used': 0.0, 'total': 0.0},\n",
       " 'AUD': {'free': 0.0, 'used': 0.0, 'total': 0.0},\n",
       " 'JPY': {'free': 28.83895, 'used': 0.0, 'total': 28.83895},\n",
       " 'USD': {'free': 0.10013, 'used': 0.0, 'total': 0.10013},\n",
       " 'free': {'QASH': 0.00016671,\n",
       "  'BTC': 0.0,\n",
       "  'ETH': 1.49,\n",
       "  'XRP': 0.0,\n",
       "  'AUD': 0.0,\n",
       "  'JPY': 28.83895,\n",
       "  'USD': 0.10013},\n",
       " 'used': {'QASH': 0.0,\n",
       "  'BTC': 0.0,\n",
       "  'ETH': 0.0,\n",
       "  'XRP': 0.0,\n",
       "  'AUD': 0.0,\n",
       "  'JPY': 0.0,\n",
       "  'USD': 0.0},\n",
       " 'total': {'QASH': 0.00016671,\n",
       "  'BTC': 0.0,\n",
       "  'ETH': 1.49,\n",
       "  'XRP': 0.0,\n",
       "  'AUD': 0.0,\n",
       "  'JPY': 28.83895,\n",
       "  'USD': 0.10013}}"
      ]
     },
     "execution_count": 3,
     "metadata": {},
     "output_type": "execute_result"
    }
   ],
   "source": [
    "raw_data"
   ]
  },
  {
   "cell_type": "code",
   "execution_count": 16,
   "metadata": {},
   "outputs": [],
   "source": [
    "symbols = ['ETH']"
   ]
  },
  {
   "cell_type": "code",
   "execution_count": null,
   "metadata": {},
   "outputs": [],
   "source": []
  },
  {
   "cell_type": "code",
   "execution_count": 17,
   "metadata": {},
   "outputs": [],
   "source": [
    "position = { symbol: raw_data['total'][symbol] for symbol in symbols }"
   ]
  },
  {
   "cell_type": "code",
   "execution_count": 18,
   "metadata": {},
   "outputs": [
    {
     "data": {
      "text/plain": [
       "{'ETH': 1.49}"
      ]
     },
     "execution_count": 18,
     "metadata": {},
     "output_type": "execute_result"
    }
   ],
   "source": [
    "position"
   ]
  },
  {
   "cell_type": "code",
   "execution_count": 10,
   "metadata": {},
   "outputs": [
    {
     "data": {
      "text/plain": [
       "68188.0"
      ]
     },
     "execution_count": 10,
     "metadata": {},
     "output_type": "execute_result"
    }
   ],
   "source": [
    "liquid.fetch_ticker('ETH/JPY')['last']"
   ]
  },
  {
   "cell_type": "code",
   "execution_count": null,
   "metadata": {},
   "outputs": [],
   "source": [
    "current_risk = {position}"
   ]
  },
  {
   "cell_type": "code",
   "execution_count": 23,
   "metadata": {},
   "outputs": [],
   "source": [
    "current_risk = {'ETH' :SymbolRisk(position['ETH'], liquid.fetch_ticker('ETH/JPY')['last'])}"
   ]
  },
  {
   "cell_type": "code",
   "execution_count": 24,
   "metadata": {},
   "outputs": [
    {
     "data": {
      "text/plain": [
       "{'ETH': SymbolRisk(qty=1.49, start_price=68252.0)}"
      ]
     },
     "execution_count": 24,
     "metadata": {},
     "output_type": "execute_result"
    }
   ],
   "source": [
    "current_risk"
   ]
  },
  {
   "cell_type": "code",
   "execution_count": 192,
   "metadata": {},
   "outputs": [],
   "source": [
    "@dataclass\n",
    "class RiskTolerance:\n",
    "    max_risk_per_trade: int\n",
    "    max_net_risk: typing.Dict[str, int]\n",
    "    risk_aversion: typing.Dict[str, float]"
   ]
  },
  {
   "cell_type": "code",
   "execution_count": 193,
   "metadata": {},
   "outputs": [],
   "source": [
    "def initialise_risk_tolerances(current_risk) -> RiskTolerance:\n",
    "    max_risk_per_trade = 10000 #jpy\n",
    "    max_net_risk = {'ETH': 30000}\n",
    "    risk_aversion = {sym: np.log(max_risk_per_trade/current_risk[sym].start_price/max_net_risk[sym] ) for sym in current_risk.keys()} #-12\n",
    "    return RiskTolerance(max_risk_per_trade = max_risk_per_trade,\n",
    "                         max_net_risk = max_net_risk,\n",
    "                         risk_aversion = risk_aversion)"
   ]
  },
  {
   "cell_type": "code",
   "execution_count": 279,
   "metadata": {},
   "outputs": [],
   "source": [
    "@dataclass\n",
    "class RiskServer:\n",
    "    risk_tolerance: RiskTolerance\n",
    "    current_risk: typing.Dict[str,SymbolRisk]\n",
    "        \n",
    "        \n",
    "    def get_net_risk(self) -> float:\n",
    "        return sum(self.current_risk[sym].qty * self.current_risk[sym].start_price for sym in self.current_risk.keys())\n",
    "    \n",
    "    def get_trading_risk(self, sym:str) -> float:\n",
    "        return self.current_risk[sym].qty * self.current_risk[sym].start_price \n",
    "    \n",
    "    def get_quantity(self, sym: str) -> typing.Tuple[float, float]:\n",
    "        risk = self.get_trading_risk(sym) # if pos > 0 , risk < 0 \n",
    "        q_0 = self.risk_tolerance.max_risk_per_trade/self.current_risk[sym].start_price # base quantiy \n",
    "        if risk >= 0:\n",
    "            bid_qty = q_0 # q_0 * np.exp(self.risk_tolerance.risk_aversion[sym] * risk) # less than q_0 -> bid less \n",
    "            ask_qty = q_0\n",
    "        else:\n",
    "            bid_qty = q_0\n",
    "            ask_qty = q_0 * np.exp(-self.risk_tolerance.risk_aversion[sym] * risk)\n",
    "        return bid_qty, ask_qty\n"
   ]
  },
  {
   "cell_type": "code",
   "execution_count": 280,
   "metadata": {},
   "outputs": [],
   "source": [
    "@dataclass\n",
    "class Book:\n",
    "    sym: str\n",
    "    raw_data:dict\n",
    "\n",
    "\n",
    "@dataclass\n",
    "class Level:\n",
    "    price: float\n",
    "    qrt:float"
   ]
  },
  {
   "cell_type": "code",
   "execution_count": null,
   "metadata": {},
   "outputs": [],
   "source": []
  },
  {
   "cell_type": "code",
   "execution_count": 281,
   "metadata": {},
   "outputs": [],
   "source": [
    "@dataclass\n",
    "class Market:\n",
    "    raw_data: dict\n",
    "    time_stamp: str = dataclasses.field(default_factory=lambda: datetime.datetime.now().isoformat())\n",
    "    books: typing.Dict[str,Book] = dataclasses.field(init = False, hash = False)\n",
    "        \n",
    "    def __post_init__(self):\n",
    "        object.__setattr__(self,'books', {sym: Book(sym, self.raw_data[sym]) for sym in self.raw_data.keys()})\n",
    "        \n",
    "    def get_touch(self,sym:str) -> typing.Tuple[Level, Level]:\n",
    "        return self.books[sym].raw_data['bids'][0], self.books[sym].raw_data['asks'][0]\n",
    "    \n",
    "    def get_weighted_fair(self, sym:str, num_levels: int):\n",
    "        bids = self.books[sym].raw_data['bids'][:num_levels]\n",
    "        asks = self.books[sym].raw_data['asks'][:num_levels]\n",
    "        fair_values = []\n",
    "        for i in range(num_levels):\n",
    "            bid, ask  = bids[i], asks[i]\n",
    "            fair = ((bid[0] * ask[1] + bid[1] * ask[0])) / (bid[1] + ask[1])\n",
    "            fair_values.append(fair)\n",
    "        final_fair = np.mean(fair_values)\n",
    "        # return the fair (in the middle), BB,BO\n",
    "        return max(min(final_fair, asks[0][0]), bids[0][0]), bids[0][0], asks[0][0] \n",
    "            \n",
    "          "
   ]
  },
  {
   "cell_type": "code",
   "execution_count": null,
   "metadata": {},
   "outputs": [],
   "source": []
  },
  {
   "cell_type": "code",
   "execution_count": null,
   "metadata": {},
   "outputs": [],
   "source": []
  },
  {
   "cell_type": "code",
   "execution_count": 282,
   "metadata": {},
   "outputs": [],
   "source": [
    "def get_market_snap(session, symbols) -> Market:\n",
    "    raw_data = {sym: session.fetch_order_book(sym + '/JPY') for sym in symbols}\n",
    "    return Market(raw_data)"
   ]
  },
  {
   "cell_type": "code",
   "execution_count": null,
   "metadata": {},
   "outputs": [],
   "source": []
  },
  {
   "cell_type": "code",
   "execution_count": 416,
   "metadata": {},
   "outputs": [
    {
     "data": {
      "text/plain": [
       "{'QASH': 0.00016671,\n",
       " 'BTC': 0.0,\n",
       " 'ETH': 1.24609203,\n",
       " 'XRP': 0.0,\n",
       " 'AUD': 0.0,\n",
       " 'JPY': 16693.3032,\n",
       " 'USD': 0.10013}"
      ]
     },
     "execution_count": 416,
     "metadata": {},
     "output_type": "execute_result"
    }
   ],
   "source": [
    "liquid.fetch_balance()['total']"
   ]
  },
  {
   "cell_type": "code",
   "execution_count": 418,
   "metadata": {},
   "outputs": [
    {
     "data": {
      "text/plain": [
       "0.8259179458529696"
      ]
     },
     "execution_count": 418,
     "metadata": {},
     "output_type": "execute_result"
    }
   ],
   "source": [
    "1.2 * 66000/ (1.2 * 66000 + 16693.3032)"
   ]
  },
  {
   "cell_type": "code",
   "execution_count": 283,
   "metadata": {},
   "outputs": [],
   "source": [
    "def update_risk_server(session, risk_tolerance:RiskTolerance) -> RiskServer:\n",
    "    symbols = ['ETH']\n",
    "    raw_data = session.fetch_balance()\n",
    "    position = { symbol: raw_data['total'][symbol] for symbol in symbols }\n",
    "    price = session.fetch_ticker('ETH/JPY')['last']\n",
    "    current_risk = {'ETH':SymbolRisk(position['ETH'], price)}\n",
    "    return RiskServer(risk_tolerance, current_risk)\n",
    "    "
   ]
  },
  {
   "cell_type": "code",
   "execution_count": 284,
   "metadata": {},
   "outputs": [],
   "source": [
    "riskTolerance = initialise_risk_tolerances(current_risk)\n",
    "\n",
    "risk = update_risk_server(liquid, riskTolerance)\n",
    "\n",
    "risk.get_net_risk()"
   ]
  },
  {
   "cell_type": "code",
   "execution_count": 287,
   "metadata": {},
   "outputs": [],
   "source": [
    "def get_mm_price(sym:str, mkt_snap, risk) -> typing.Tuple[float,float]:\n",
    "    bal_ratio = float(risk.get_trading_risk(sym)/risk.risk_tolerance.max_net_risk[sym])\n",
    "    if abs(bal_ratio)<0.2:\n",
    "        bal_ratio_step = 0\n",
    "    elif abs(bal_ratio)< 0.5:\n",
    "        bal_ratio_step = bal_ratio * 0.2\n",
    "    elif abs(bal_ratio)< 0.8:\n",
    "        bal_ratio_step = bal_ratio * 0.5\n",
    "    else:\n",
    "        bal_ratio_step = 1\n",
    "        \n",
    "    fair_price, bid_px, ask_px = mkt_snap.get_weighted_fair(sym, 3)\n",
    "    spread = ask_px - bid_px\n",
    "    \n",
    "    bid_without_risk_adjust = fair_price - spread/2\n",
    "    ask_without_risk_adjust = fair_price + spread/2\n",
    "    \n",
    "    if bal_ratio >= 0 :\n",
    "        bid_price = bid_without_risk_adjust * (1 - bal_ratio_step * 0.01)\n",
    "        if bid_price > bid_px:\n",
    "            bid_price = bid_px\n",
    "        ask_price = ask_without_risk_adjust\n",
    "        if ask_price < ask_px:\n",
    "            ask_price = ask_px\n",
    "            \n",
    "    else:\n",
    "        bid_price = bid_without_risk_adjust\n",
    "        if bid_price > bid_px:\n",
    "            bid_price = bid_px\n",
    "        ask_price = ask_without_risk_adjust * (1 - bal_ratio_step * 0.01)\n",
    "        if as_price < ask_px:\n",
    "            ask_price = ask_px\n",
    "            \n",
    "    return round(bid_price,2), round(ask_price,2)\n",
    "                \n",
    "            "
   ]
  },
  {
   "cell_type": "code",
   "execution_count": 379,
   "metadata": {},
   "outputs": [
    {
     "data": {
      "text/plain": [
       "[{'id': '3655196401',\n",
       "  'clientOrderId': None,\n",
       "  'timestamp': 1608463561000,\n",
       "  'datetime': '2020-12-20T11:26:01.000Z',\n",
       "  'lastTradeTimestamp': None,\n",
       "  'type': 'limit',\n",
       "  'timeInForce': None,\n",
       "  'postOnly': None,\n",
       "  'status': 'open',\n",
       "  'symbol': 'ETH/JPY',\n",
       "  'side': 'buy',\n",
       "  'price': 66606.0,\n",
       "  'stopPrice': None,\n",
       "  'amount': 0.01,\n",
       "  'filled': 0.0,\n",
       "  'cost': None,\n",
       "  'remaining': 0.01,\n",
       "  'average': 0.0,\n",
       "  'trades': [],\n",
       "  'fee': {'currency': 'JPY', 'cost': 0.0},\n",
       "  'info': {'id': 3655196401,\n",
       "   'order_type': 'limit',\n",
       "   'quantity': '0.01',\n",
       "   'disc_quantity': '0.0',\n",
       "   'iceberg_total_quantity': '0.0',\n",
       "   'side': 'buy',\n",
       "   'filled_quantity': '0.0',\n",
       "   'price': '66606.0',\n",
       "   'created_at': 1608463561,\n",
       "   'updated_at': 1608463561,\n",
       "   'status': 'live',\n",
       "   'leverage_level': 1,\n",
       "   'source_exchange': 0,\n",
       "   'product_id': 29,\n",
       "   'margin_type': None,\n",
       "   'take_profit': None,\n",
       "   'stop_loss': None,\n",
       "   'trading_type': 'spot',\n",
       "   'product_code': 'CASH',\n",
       "   'funding_currency': 'JPY',\n",
       "   'crypto_account_id': None,\n",
       "   'currency_pair_code': 'ETHJPY',\n",
       "   'average_price': '0.0',\n",
       "   'target': 'spot',\n",
       "   'order_fee': '0.0',\n",
       "   'source_action': 'manual',\n",
       "   'unwound_trade_id': None,\n",
       "   'trade_id': None,\n",
       "   'client_order_id': None,\n",
       "   'settings': None,\n",
       "   'trailing_stop_type': None,\n",
       "   'trailing_stop_value': None,\n",
       "   'executions': [],\n",
       "   'stop_triggered_time': None}},\n",
       " {'id': '3655242252',\n",
       "  'clientOrderId': None,\n",
       "  'timestamp': 1608464712000,\n",
       "  'datetime': '2020-12-20T11:45:12.000Z',\n",
       "  'lastTradeTimestamp': None,\n",
       "  'type': 'limit',\n",
       "  'timeInForce': None,\n",
       "  'postOnly': None,\n",
       "  'status': 'open',\n",
       "  'symbol': 'ETH/JPY',\n",
       "  'side': 'buy',\n",
       "  'price': 66802.0,\n",
       "  'stopPrice': None,\n",
       "  'amount': 0.01,\n",
       "  'filled': 0.0,\n",
       "  'cost': None,\n",
       "  'remaining': 0.01,\n",
       "  'average': 0.0,\n",
       "  'trades': [],\n",
       "  'fee': {'currency': 'JPY', 'cost': 0.0},\n",
       "  'info': {'id': 3655242252,\n",
       "   'order_type': 'limit',\n",
       "   'quantity': '0.01',\n",
       "   'disc_quantity': '0.0',\n",
       "   'iceberg_total_quantity': '0.0',\n",
       "   'side': 'buy',\n",
       "   'filled_quantity': '0.0',\n",
       "   'price': '66802.0',\n",
       "   'created_at': 1608464712,\n",
       "   'updated_at': 1608464712,\n",
       "   'status': 'live',\n",
       "   'leverage_level': 1,\n",
       "   'source_exchange': 0,\n",
       "   'product_id': 29,\n",
       "   'margin_type': None,\n",
       "   'take_profit': None,\n",
       "   'stop_loss': None,\n",
       "   'trading_type': 'spot',\n",
       "   'product_code': 'CASH',\n",
       "   'funding_currency': 'JPY',\n",
       "   'crypto_account_id': None,\n",
       "   'currency_pair_code': 'ETHJPY',\n",
       "   'average_price': '0.0',\n",
       "   'target': 'spot',\n",
       "   'order_fee': '0.0',\n",
       "   'source_action': 'manual',\n",
       "   'unwound_trade_id': None,\n",
       "   'trade_id': None,\n",
       "   'client_order_id': None,\n",
       "   'settings': None,\n",
       "   'trailing_stop_type': None,\n",
       "   'trailing_stop_value': None,\n",
       "   'executions': [],\n",
       "   'stop_triggered_time': None}}]"
      ]
     },
     "execution_count": 379,
     "metadata": {},
     "output_type": "execute_result"
    }
   ],
   "source": [
    "liquid.fetch_open_orders()"
   ]
  },
  {
   "cell_type": "code",
   "execution_count": 380,
   "metadata": {},
   "outputs": [],
   "source": [
    "open_orders = liquid.fetch_open_orders()\n",
    "\n",
    "for open_order in open_orders:\n",
    "    liquid.cancel_order(open_order['id'])"
   ]
  },
  {
   "cell_type": "code",
   "execution_count": 288,
   "metadata": {},
   "outputs": [],
   "source": [
    "mkt_snap = get_market_snap(liquid, symbols)\n",
    "\n",
    "get_mm_price('ETH', mkt_snap,risk)"
   ]
  },
  {
   "cell_type": "code",
   "execution_count": 312,
   "metadata": {},
   "outputs": [],
   "source": [
    "def make_markets(session, mkt_snap, risk, orders) -> dict:\n",
    "    for sym in orders.keys():\n",
    "        bid, ask = get_mm_price(sym, mkt_snap,risk)\n",
    "        bid_qty, ask_qty = risk.get_quantity(sym)\n",
    "        print(bid, ask,bid_qty, ask_qty)\n",
    "    if orders[sym]:\n",
    "        order_info = orders[sym]\n",
    "        open_orders = liquid.fetch_open_orders(symbol='ETH/JPY')\n",
    "        \n",
    "#         bid_status = session.\n",
    "        \n",
    "    else:\n",
    "        orders[sym]['orders'] = session.create_order(\n",
    "        \n",
    "        symbol= 'ETH/JPY',\n",
    "        type= 'limit',\n",
    "        side= 'buy',\n",
    "        amount= bid_qty,\n",
    "        price=bid\n",
    "            \n",
    "        ), \n",
    "        orders[sym]['orders'] = session.create_order(\n",
    "        \n",
    "        symbol= 'ETH/JPY',\n",
    "        type= 'limit',\n",
    "        side= 'sell',\n",
    "        amount= ask_qty,\n",
    "        price=ask\n",
    "            \n",
    "        )"
   ]
  },
  {
   "cell_type": "code",
   "execution_count": null,
   "metadata": {},
   "outputs": [],
   "source": [
    "mkt_snaps = []\n",
    "\n"
   ]
  },
  {
   "cell_type": "code",
   "execution_count": null,
   "metadata": {},
   "outputs": [],
   "source": []
  },
  {
   "cell_type": "code",
   "execution_count": 350,
   "metadata": {},
   "outputs": [],
   "source": [
    "orders_info = liquid.fetch_open_orders(symbol='ETH/JPY')"
   ]
  },
  {
   "cell_type": "code",
   "execution_count": 364,
   "metadata": {},
   "outputs": [],
   "source": [
    "passive_orders = {'ETH': {'bids': ({'id': '3655203182', 'clientOrderId': None, 'timestamp': 1608463731000, 'datetime': '2020-12-20T11:28:51.000Z', 'lastTradeTimestamp': None, 'type': 'limit', 'timeInForce': None, 'postOnly': None, 'status': 'open', 'symbol': 'ETH/JPY', 'side': 'buy', 'price': 66695.0, 'stopPrice': None, 'amount': 0.01, 'filled': 0.0, 'cost': None, 'remaining': 0.01, 'average': 0.0, 'trades': [], 'fee': {'currency': 'JPY', 'cost': 0.0}, 'info': {'id': 3655203182, 'order_type': 'limit', 'quantity': '0.01', 'disc_quantity': '0.0', 'iceberg_total_quantity': '0.0', 'side': 'buy', 'filled_quantity': '0.0', 'price': 66695.0, 'created_at': 1608463731, 'updated_at': 1608463731, 'status': 'live', 'leverage_level': 1, 'source_exchange': 'QUOINE', 'product_id': 29, 'margin_type': None, 'take_profit': None, 'stop_loss': None, 'trading_type': 'spot', 'product_code': 'CASH', 'funding_currency': 'JPY', 'crypto_account_id': None, 'currency_pair_code': 'ETHJPY', 'average_price': 0.0, 'target': 'spot', 'order_fee': 0.0, 'source_action': 'manual', 'unwound_trade_id': None, 'trade_id': None, 'client_order_id': None}},), 'asks': {'id': '3655203206', 'clientOrderId': None, 'timestamp': 1608463731000, 'datetime': '2020-12-20T11:28:51.000Z', 'lastTradeTimestamp': None, 'type': 'limit', 'timeInForce': None, 'postOnly': None, 'status': 'open', 'symbol': 'ETH/JPY', 'side': 'sell', 'price': 67426.0, 'stopPrice': None, 'amount': 0.01, 'filled': 0.0, 'cost': None, 'remaining': 0.01, 'average': 0.0, 'trades': [], 'fee': {'currency': 'JPY', 'cost': 0.0}, 'info': {'id': 3655203206, 'order_type': 'limit', 'quantity': '0.01', 'disc_quantity': '0.0', 'iceberg_total_quantity': '0.0', 'side': 'sell', 'filled_quantity': '0.0', 'price': 67426.0, 'created_at': 1608463731, 'updated_at': 1608463731, 'status': 'live', 'leverage_level': 1, 'source_exchange': 'QUOINE', 'product_id': 29, 'margin_type': None, 'take_profit': None, 'stop_loss': None, 'trading_type': 'spot', 'product_code': 'CASH', 'funding_currency': 'JPY', 'crypto_account_id': None, 'currency_pair_code': 'ETHJPY', 'average_price': 0.0, 'target': 'spot', 'order_fee': 0.0, 'source_action': 'manual', 'unwound_trade_id': None, 'trade_id': None, 'client_order_id': None}}, 'tick': 1608463729983}}"
   ]
  },
  {
   "cell_type": "code",
   "execution_count": 407,
   "metadata": {},
   "outputs": [],
   "source": [
    "x = {'bids': [({'id': '3655417877', 'clientOrderId': None, 'timestamp': 1608468262000, 'datetime': '2020-12-20T12:44:22.000Z', 'lastTradeTimestamp': None, 'type': 'limit', 'timeInForce': None, 'postOnly': None, 'status': 'open', 'symbol': 'ETH/JPY', 'side': 'buy', 'price': 66073.0, 'stopPrice': None, 'amount': 0.01, 'filled': 0.0, 'cost': None, 'remaining': 0.01, 'average': 0.0, 'trades': [], 'fee': {'currency': 'JPY', 'cost': 0.0}, 'info': {'id': 3655417877, 'order_type': 'limit', 'quantity': '0.01', 'disc_quantity': '0.0', 'iceberg_total_quantity': '0.0', 'side': 'buy', 'filled_quantity': '0.0', 'price': 66073.0, 'created_at': 1608468262, 'updated_at': 1608468262, 'status': 'live', 'leverage_level': 1, 'source_exchange': 'QUOINE', 'product_id': 29, 'margin_type': None, 'take_profit': None, 'stop_loss': None, 'trading_type': 'spot', 'product_code': 'CASH', 'funding_currency': 'JPY', 'crypto_account_id': None, 'currency_pair_code': 'ETHJPY', 'average_price': 0.0, 'target': 'spot', 'order_fee': 0.0, 'source_action': 'manual', 'unwound_trade_id': None, 'trade_id': None, 'client_order_id': None}},)], 'asks': [({'id': '3655417900', 'clientOrderId': None, 'timestamp': 1608468263000, 'datetime': '2020-12-20T12:44:23.000Z', 'lastTradeTimestamp': None, 'type': 'limit', 'timeInForce': None, 'postOnly': None, 'status': 'open', 'symbol': 'ETH/JPY', 'side': 'sell', 'price': 66811.0, 'stopPrice': None, 'amount': 0.01, 'filled': 0.0, 'cost': None, 'remaining': 0.01, 'average': 0.0, 'trades': [], 'fee': {'currency': 'JPY', 'cost': 0.0}, 'info': {'id': 3655417900, 'order_type': 'limit', 'quantity': '0.01', 'disc_quantity': '0.0', 'iceberg_total_quantity': '0.0', 'side': 'sell', 'filled_quantity': '0.0', 'price': 66811.0, 'created_at': 1608468263, 'updated_at': 1608468263, 'status': 'live', 'leverage_level': 1, 'source_exchange': 'QUOINE', 'product_id': 29, 'margin_type': None, 'take_profit': None, 'stop_loss': None, 'trading_type': 'spot', 'product_code': 'CASH', 'funding_currency': 'JPY', 'crypto_account_id': None, 'currency_pair_code': 'ETHJPY', 'average_price': 0.0, 'target': 'spot', 'order_fee': 0.0, 'source_action': 'manual', 'unwound_trade_id': None, 'trade_id': None, 'client_order_id': None}},)], 'tick': 1608468259649}"
   ]
  },
  {
   "cell_type": "code",
   "execution_count": 393,
   "metadata": {},
   "outputs": [
    {
     "data": {
      "text/plain": [
       "('ask',)"
      ]
     },
     "execution_count": 393,
     "metadata": {},
     "output_type": "execute_result"
    }
   ],
   "source": [
    "('ask',)"
   ]
  },
  {
   "cell_type": "code",
   "execution_count": 400,
   "metadata": {},
   "outputs": [
    {
     "data": {
      "text/plain": [
       "True"
      ]
     },
     "execution_count": 400,
     "metadata": {},
     "output_type": "execute_result"
    }
   ],
   "source": [
    "y = {'bids': [], 'asks': []}\n",
    "y['bids'] == []"
   ]
  },
  {
   "cell_type": "code",
   "execution_count": 412,
   "metadata": {},
   "outputs": [
    {
     "data": {
      "text/plain": [
       "{'bids': [({'id': '3655417877',\n",
       "    'clientOrderId': None,\n",
       "    'timestamp': 1608468262000,\n",
       "    'datetime': '2020-12-20T12:44:22.000Z',\n",
       "    'lastTradeTimestamp': None,\n",
       "    'type': 'limit',\n",
       "    'timeInForce': None,\n",
       "    'postOnly': None,\n",
       "    'status': 'open',\n",
       "    'symbol': 'ETH/JPY',\n",
       "    'side': 'buy',\n",
       "    'price': 66073.0,\n",
       "    'stopPrice': None,\n",
       "    'amount': 0.01,\n",
       "    'filled': 0.0,\n",
       "    'cost': None,\n",
       "    'remaining': 0.01,\n",
       "    'average': 0.0,\n",
       "    'trades': [],\n",
       "    'fee': {'currency': 'JPY', 'cost': 0.0},\n",
       "    'info': {'id': 3655417877,\n",
       "     'order_type': 'limit',\n",
       "     'quantity': '0.01',\n",
       "     'disc_quantity': '0.0',\n",
       "     'iceberg_total_quantity': '0.0',\n",
       "     'side': 'buy',\n",
       "     'filled_quantity': '0.0',\n",
       "     'price': 66073.0,\n",
       "     'created_at': 1608468262,\n",
       "     'updated_at': 1608468262,\n",
       "     'status': 'live',\n",
       "     'leverage_level': 1,\n",
       "     'source_exchange': 'QUOINE',\n",
       "     'product_id': 29,\n",
       "     'margin_type': None,\n",
       "     'take_profit': None,\n",
       "     'stop_loss': None,\n",
       "     'trading_type': 'spot',\n",
       "     'product_code': 'CASH',\n",
       "     'funding_currency': 'JPY',\n",
       "     'crypto_account_id': None,\n",
       "     'currency_pair_code': 'ETHJPY',\n",
       "     'average_price': 0.0,\n",
       "     'target': 'spot',\n",
       "     'order_fee': 0.0,\n",
       "     'source_action': 'manual',\n",
       "     'unwound_trade_id': None,\n",
       "     'trade_id': None,\n",
       "     'client_order_id': None}},)],\n",
       " 'asks': [({'id': '3655417900',\n",
       "    'clientOrderId': None,\n",
       "    'timestamp': 1608468263000,\n",
       "    'datetime': '2020-12-20T12:44:23.000Z',\n",
       "    'lastTradeTimestamp': None,\n",
       "    'type': 'limit',\n",
       "    'timeInForce': None,\n",
       "    'postOnly': None,\n",
       "    'status': 'open',\n",
       "    'symbol': 'ETH/JPY',\n",
       "    'side': 'sell',\n",
       "    'price': 66811.0,\n",
       "    'stopPrice': None,\n",
       "    'amount': 0.01,\n",
       "    'filled': 0.0,\n",
       "    'cost': None,\n",
       "    'remaining': 0.01,\n",
       "    'average': 0.0,\n",
       "    'trades': [],\n",
       "    'fee': {'currency': 'JPY', 'cost': 0.0},\n",
       "    'info': {'id': 3655417900,\n",
       "     'order_type': 'limit',\n",
       "     'quantity': '0.01',\n",
       "     'disc_quantity': '0.0',\n",
       "     'iceberg_total_quantity': '0.0',\n",
       "     'side': 'sell',\n",
       "     'filled_quantity': '0.0',\n",
       "     'price': 66811.0,\n",
       "     'created_at': 1608468263,\n",
       "     'updated_at': 1608468263,\n",
       "     'status': 'live',\n",
       "     'leverage_level': 1,\n",
       "     'source_exchange': 'QUOINE',\n",
       "     'product_id': 29,\n",
       "     'margin_type': None,\n",
       "     'take_profit': None,\n",
       "     'stop_loss': None,\n",
       "     'trading_type': 'spot',\n",
       "     'product_code': 'CASH',\n",
       "     'funding_currency': 'JPY',\n",
       "     'crypto_account_id': None,\n",
       "     'currency_pair_code': 'ETHJPY',\n",
       "     'average_price': 0.0,\n",
       "     'target': 'spot',\n",
       "     'order_fee': 0.0,\n",
       "     'source_action': 'manual',\n",
       "     'unwound_trade_id': None,\n",
       "     'trade_id': None,\n",
       "     'client_order_id': None}},)],\n",
       " 'tick': 1608468259649}"
      ]
     },
     "execution_count": 412,
     "metadata": {},
     "output_type": "execute_result"
    }
   ],
   "source": [
    "x"
   ]
  },
  {
   "cell_type": "code",
   "execution_count": 411,
   "metadata": {},
   "outputs": [
    {
     "data": {
      "text/plain": [
       "[{'id': '3655417877',\n",
       "  'clientOrderId': None,\n",
       "  'timestamp': 1608468262000,\n",
       "  'datetime': '2020-12-20T12:44:22.000Z',\n",
       "  'lastTradeTimestamp': None,\n",
       "  'type': 'limit',\n",
       "  'timeInForce': None,\n",
       "  'postOnly': None,\n",
       "  'status': 'open',\n",
       "  'symbol': 'ETH/JPY',\n",
       "  'side': 'buy',\n",
       "  'price': 66073.0,\n",
       "  'stopPrice': None,\n",
       "  'amount': 0.01,\n",
       "  'filled': 0.0,\n",
       "  'cost': None,\n",
       "  'remaining': 0.01,\n",
       "  'average': 0.0,\n",
       "  'trades': [],\n",
       "  'fee': {'currency': 'JPY', 'cost': 0.0},\n",
       "  'info': {'id': 3655417877,\n",
       "   'order_type': 'limit',\n",
       "   'quantity': '0.01',\n",
       "   'disc_quantity': '0.0',\n",
       "   'iceberg_total_quantity': '0.0',\n",
       "   'side': 'buy',\n",
       "   'filled_quantity': '0.0',\n",
       "   'price': 66073.0,\n",
       "   'created_at': 1608468262,\n",
       "   'updated_at': 1608468262,\n",
       "   'status': 'live',\n",
       "   'leverage_level': 1,\n",
       "   'source_exchange': 'QUOINE',\n",
       "   'product_id': 29,\n",
       "   'margin_type': None,\n",
       "   'take_profit': None,\n",
       "   'stop_loss': None,\n",
       "   'trading_type': 'spot',\n",
       "   'product_code': 'CASH',\n",
       "   'funding_currency': 'JPY',\n",
       "   'crypto_account_id': None,\n",
       "   'currency_pair_code': 'ETHJPY',\n",
       "   'average_price': 0.0,\n",
       "   'target': 'spot',\n",
       "   'order_fee': 0.0,\n",
       "   'source_action': 'manual',\n",
       "   'unwound_trade_id': None,\n",
       "   'trade_id': None,\n",
       "   'client_order_id': None}}]"
      ]
     },
     "execution_count": 411,
     "metadata": {},
     "output_type": "execute_result"
    }
   ],
   "source": [
    "list(x['bids'][0])"
   ]
  },
  {
   "cell_type": "code",
   "execution_count": 402,
   "metadata": {},
   "outputs": [
    {
     "data": {
      "text/plain": [
       "{'bids': {'id': '3655408760',\n",
       "  'clientOrderId': None,\n",
       "  'timestamp': 1608468082000,\n",
       "  'datetime': '2020-12-20T12:41:22.000Z',\n",
       "  'lastTradeTimestamp': None,\n",
       "  'type': 'limit',\n",
       "  'timeInForce': None,\n",
       "  'postOnly': None,\n",
       "  'status': 'open',\n",
       "  'symbol': 'ETH/JPY',\n",
       "  'side': 'buy',\n",
       "  'price': 66051.0,\n",
       "  'stopPrice': None,\n",
       "  'amount': 0.01,\n",
       "  'filled': 0.0,\n",
       "  'cost': None,\n",
       "  'remaining': 0.01,\n",
       "  'average': 0.0,\n",
       "  'trades': [],\n",
       "  'fee': {'currency': 'JPY', 'cost': 0.0},\n",
       "  'info': {'id': 3655408760,\n",
       "   'order_type': 'limit',\n",
       "   'quantity': '0.01',\n",
       "   'disc_quantity': '0.0',\n",
       "   'iceberg_total_quantity': '0.0',\n",
       "   'side': 'buy',\n",
       "   'filled_quantity': '0.0',\n",
       "   'price': 66051.0,\n",
       "   'created_at': 1608468082,\n",
       "   'updated_at': 1608468082,\n",
       "   'status': 'live',\n",
       "   'leverage_level': 1,\n",
       "   'source_exchange': 'QUOINE',\n",
       "   'product_id': 29,\n",
       "   'margin_type': None,\n",
       "   'take_profit': None,\n",
       "   'stop_loss': None,\n",
       "   'trading_type': 'spot',\n",
       "   'product_code': 'CASH',\n",
       "   'funding_currency': 'JPY',\n",
       "   'crypto_account_id': None,\n",
       "   'currency_pair_code': 'ETHJPY',\n",
       "   'average_price': 0.0,\n",
       "   'target': 'spot',\n",
       "   'order_fee': 0.0,\n",
       "   'source_action': 'manual',\n",
       "   'unwound_trade_id': None,\n",
       "   'trade_id': None,\n",
       "   'client_order_id': None}},\n",
       " 'asks': {'id': '3655408825',\n",
       "  'clientOrderId': None,\n",
       "  'timestamp': 1608468082000,\n",
       "  'datetime': '2020-12-20T12:41:22.000Z',\n",
       "  'lastTradeTimestamp': None,\n",
       "  'type': 'limit',\n",
       "  'timeInForce': None,\n",
       "  'postOnly': None,\n",
       "  'status': 'open',\n",
       "  'symbol': 'ETH/JPY',\n",
       "  'side': 'sell',\n",
       "  'price': 66800.0,\n",
       "  'stopPrice': None,\n",
       "  'amount': 0.01,\n",
       "  'filled': 0.0,\n",
       "  'cost': None,\n",
       "  'remaining': 0.01,\n",
       "  'average': 0.0,\n",
       "  'trades': [],\n",
       "  'fee': {'currency': 'JPY', 'cost': 0.0},\n",
       "  'info': {'id': 3655408825,\n",
       "   'order_type': 'limit',\n",
       "   'quantity': '0.01',\n",
       "   'disc_quantity': '0.0',\n",
       "   'iceberg_total_quantity': '0.0',\n",
       "   'side': 'sell',\n",
       "   'filled_quantity': '0.0',\n",
       "   'price': 66800.0,\n",
       "   'created_at': 1608468082,\n",
       "   'updated_at': 1608468082,\n",
       "   'status': 'live',\n",
       "   'leverage_level': 1,\n",
       "   'source_exchange': 'QUOINE',\n",
       "   'product_id': 29,\n",
       "   'margin_type': None,\n",
       "   'take_profit': None,\n",
       "   'stop_loss': None,\n",
       "   'trading_type': 'spot',\n",
       "   'product_code': 'CASH',\n",
       "   'funding_currency': 'JPY',\n",
       "   'crypto_account_id': None,\n",
       "   'currency_pair_code': 'ETHJPY',\n",
       "   'average_price': 0.0,\n",
       "   'target': 'spot',\n",
       "   'order_fee': 0.0,\n",
       "   'source_action': 'manual',\n",
       "   'unwound_trade_id': None,\n",
       "   'trade_id': None,\n",
       "   'client_order_id': None}},\n",
       " 'tick': 1608468081288}"
      ]
     },
     "execution_count": 402,
     "metadata": {},
     "output_type": "execute_result"
    }
   ],
   "source": [
    "x"
   ]
  },
  {
   "cell_type": "code",
   "execution_count": null,
   "metadata": {},
   "outputs": [],
   "source": []
  },
  {
   "cell_type": "code",
   "execution_count": 365,
   "metadata": {},
   "outputs": [],
   "source": [
    "orders_info = passive_orders['ETH']\n"
   ]
  },
  {
   "cell_type": "code",
   "execution_count": 372,
   "metadata": {},
   "outputs": [
    {
     "data": {
      "text/plain": [
       "'3655203182'"
      ]
     },
     "execution_count": 372,
     "metadata": {},
     "output_type": "execute_result"
    }
   ],
   "source": [
    "orders_info['bids'][0]['id']"
   ]
  },
  {
   "cell_type": "code",
   "execution_count": 377,
   "metadata": {},
   "outputs": [
    {
     "data": {
      "text/plain": [
       "{'id': '3655203182',\n",
       " 'clientOrderId': None,\n",
       " 'timestamp': 1608463731000,\n",
       " 'datetime': '2020-12-20T11:28:51.000Z',\n",
       " 'lastTradeTimestamp': None,\n",
       " 'type': 'limit',\n",
       " 'timeInForce': None,\n",
       " 'postOnly': None,\n",
       " 'status': 'canceled',\n",
       " 'symbol': 'ETH/JPY',\n",
       " 'side': 'buy',\n",
       " 'price': 66695.0,\n",
       " 'stopPrice': None,\n",
       " 'amount': 0.01,\n",
       " 'filled': 0.0,\n",
       " 'cost': None,\n",
       " 'remaining': 0.01,\n",
       " 'average': 0.0,\n",
       " 'trades': [],\n",
       " 'fee': {'currency': 'JPY', 'cost': 0.0},\n",
       " 'info': {'id': 3655203182,\n",
       "  'order_type': 'limit',\n",
       "  'quantity': '0.01',\n",
       "  'disc_quantity': '0.0',\n",
       "  'iceberg_total_quantity': '0.0',\n",
       "  'side': 'buy',\n",
       "  'filled_quantity': '0.0',\n",
       "  'price': 66695.0,\n",
       "  'created_at': 1608463731,\n",
       "  'updated_at': 1608464356,\n",
       "  'status': 'cancelled',\n",
       "  'leverage_level': 1,\n",
       "  'source_exchange': 'QUOINE',\n",
       "  'product_id': 29,\n",
       "  'margin_type': None,\n",
       "  'take_profit': None,\n",
       "  'stop_loss': None,\n",
       "  'trading_type': 'spot',\n",
       "  'product_code': 'CASH',\n",
       "  'funding_currency': 'JPY',\n",
       "  'crypto_account_id': None,\n",
       "  'currency_pair_code': 'ETHJPY',\n",
       "  'average_price': 0.0,\n",
       "  'target': 'spot',\n",
       "  'order_fee': 0.0,\n",
       "  'source_action': 'manual',\n",
       "  'unwound_trade_id': None,\n",
       "  'trade_id': None,\n",
       "  'client_order_id': None}}"
      ]
     },
     "execution_count": 377,
     "metadata": {},
     "output_type": "execute_result"
    }
   ],
   "source": [
    "liquid.cancel_order(orders_info['bids'][0]['id'])"
   ]
  },
  {
   "cell_type": "code",
   "execution_count": 374,
   "metadata": {},
   "outputs": [
    {
     "data": {
      "text/plain": [
       "'open'"
      ]
     },
     "execution_count": 374,
     "metadata": {},
     "output_type": "execute_result"
    }
   ],
   "source": [
    "liquid.fetch_order('3655203182')['status']"
   ]
  },
  {
   "cell_type": "code",
   "execution_count": 354,
   "metadata": {},
   "outputs": [
    {
     "ename": "NameError",
     "evalue": "name 'bid' is not defined",
     "output_type": "error",
     "traceback": [
      "\u001b[0;31m---------------------------------------------------------------------------\u001b[0m",
      "\u001b[0;31mNameError\u001b[0m                                 Traceback (most recent call last)",
      "\u001b[0;32m<ipython-input-354-f2c66f5326a8>\u001b[0m in \u001b[0;36m<module>\u001b[0;34m\u001b[0m\n\u001b[1;32m      3\u001b[0m \u001b[0mask_status\u001b[0m \u001b[0;34m=\u001b[0m \u001b[0;34m[\u001b[0m\u001b[0morder\u001b[0m \u001b[0;32mfor\u001b[0m \u001b[0morder\u001b[0m \u001b[0;32min\u001b[0m \u001b[0morders_info\u001b[0m \u001b[0;32mif\u001b[0m \u001b[0morder\u001b[0m\u001b[0;34m[\u001b[0m\u001b[0;34m'side'\u001b[0m\u001b[0;34m]\u001b[0m \u001b[0;34m==\u001b[0m \u001b[0;34m'sell'\u001b[0m\u001b[0;34m]\u001b[0m\u001b[0;34m\u001b[0m\u001b[0;34m\u001b[0m\u001b[0m\n\u001b[1;32m      4\u001b[0m \u001b[0;34m\u001b[0m\u001b[0m\n\u001b[0;32m----> 5\u001b[0;31m \u001b[0mbid_move\u001b[0m \u001b[0;34m=\u001b[0m \u001b[0mbid\u001b[0m \u001b[0;34m!=\u001b[0m \u001b[0mbid_status\u001b[0m\u001b[0;34m[\u001b[0m\u001b[0;36m0\u001b[0m\u001b[0;34m]\u001b[0m\u001b[0;34m[\u001b[0m\u001b[0;34m'price'\u001b[0m\u001b[0;34m]\u001b[0m\u001b[0;34m\u001b[0m\u001b[0;34m\u001b[0m\u001b[0m\n\u001b[0m\u001b[1;32m      6\u001b[0m \u001b[0mask_move\u001b[0m \u001b[0;34m=\u001b[0m \u001b[0mask\u001b[0m \u001b[0;34m!=\u001b[0m \u001b[0mask_status\u001b[0m\u001b[0;34m[\u001b[0m\u001b[0;36m0\u001b[0m\u001b[0;34m]\u001b[0m\u001b[0;34m[\u001b[0m\u001b[0;34m'price'\u001b[0m\u001b[0;34m]\u001b[0m\u001b[0;34m\u001b[0m\u001b[0;34m\u001b[0m\u001b[0m\n\u001b[1;32m      7\u001b[0m \u001b[0;34m\u001b[0m\u001b[0m\n",
      "\u001b[0;31mNameError\u001b[0m: name 'bid' is not defined"
     ]
    }
   ],
   "source": [
    "\n",
    "bid_status = liquid.fetch_order(orders_info['bids'][0]['id'])['status']\n",
    "ask_status = liquid.fetch_order(orders_info['asks'][0]['id'])['status']\n",
    "\n",
    "bid_move = bid != bid_status[0]['price']\n",
    "ask_move = ask != ask_status[0]['price']\n",
    "\n",
    "current_timestamp = int(datetime.datetime.fromisoformat(mkt_snap.time_stamp).timestamp()* 1000)\n",
    "safe = current_timestamp -  orders_info['tick'] > 100 or (bid_status == 'filled' and ask_status == 'filled')\n",
    "\n",
    "if (bid_status == 'open' and bid_move) or (bid_status == 'filled' and safe):\n",
    "    session.cancel_order(orders_info['bids'][0]['id'])\n",
    "    order_info['bids'][0]=session."
   ]
  },
  {
   "cell_type": "code",
   "execution_count": 376,
   "metadata": {},
   "outputs": [
    {
     "data": {
      "text/plain": [
       "-46031573"
      ]
     },
     "execution_count": 376,
     "metadata": {},
     "output_type": "execute_result"
    }
   ],
   "source": [
    "current_timestamp = int(datetime.datetime.fromisoformat(mkt_snap.time_stamp).timestamp()* 1000)\n",
    "current_timestamp -  orders_info['tick']"
   ]
  },
  {
   "cell_type": "code",
   "execution_count": 332,
   "metadata": {},
   "outputs": [
    {
     "data": {
      "text/plain": [
       "'2020-12-19T22:41:38.410861'"
      ]
     },
     "execution_count": 332,
     "metadata": {},
     "output_type": "execute_result"
    }
   ],
   "source": [
    "mkt_snap.time_stamp\n",
    "\n",
    "\n"
   ]
  },
  {
   "cell_type": "code",
   "execution_count": 338,
   "metadata": {},
   "outputs": [
    {
     "data": {
      "text/plain": [
       "1608417698.410861"
      ]
     },
     "execution_count": 338,
     "metadata": {},
     "output_type": "execute_result"
    }
   ],
   "source": [
    "datetime.datetime.timestamp(datetime.datetime.fromisoformat(mkt_snap.time_stamp))"
   ]
  },
  {
   "cell_type": "code",
   "execution_count": 344,
   "metadata": {},
   "outputs": [
    {
     "data": {
      "text/plain": [
       "1608417698410"
      ]
     },
     "execution_count": 344,
     "metadata": {},
     "output_type": "execute_result"
    }
   ],
   "source": [
    "int(datetime.datetime.fromisoformat(mkt_snap.time_stamp).timestamp()* 1000)"
   ]
  },
  {
   "cell_type": "code",
   "execution_count": 357,
   "metadata": {},
   "outputs": [],
   "source": [
    "orders_info = {'ETH': {'orders': {'id': '3655137417', 'clientOrderId': None, 'timestamp': 1608462208000, 'datetime': '2020-12-20T11:03:28.000Z', 'lastTradeTimestamp': None, 'type': 'limit', 'timeInForce': None, 'postOnly': None, 'status': 'open', 'symbol': 'ETH/JPY', 'side': 'sell', 'price': 67575.0, 'stopPrice': None, 'amount': 0.14850014, 'filled': 0.0, 'cost': None, 'remaining': 0.14850014, 'average': 0.0, 'trades': [], 'fee': {'currency': 'JPY', 'cost': 0.0}, 'info': {'id': 3655137417, 'order_type': 'limit', 'quantity': '0.14850014', 'disc_quantity': '0.0', 'iceberg_total_quantity': '0.0', 'side': 'sell', 'filled_quantity': '0.0', 'price': 67575.0, 'created_at': 1608462208, 'updated_at': 1608462208, 'status': 'live', 'leverage_level': 1, 'source_exchange': 'QUOINE', 'product_id': 29, 'margin_type': None, 'take_profit': None, 'stop_loss': None, 'trading_type': 'spot', 'product_code': 'CASH', 'funding_currency': 'JPY', 'crypto_account_id': None, 'currency_pair_code': 'ETHJPY', 'average_price': 0.0, 'target': 'spot', 'order_fee': 0.0, 'source_action': 'manual', 'unwound_trade_id': None, 'trade_id': None, 'client_order_id': None}}, 'tick': 1608462205853}}"
   ]
  },
  {
   "cell_type": "code",
   "execution_count": null,
   "metadata": {},
   "outputs": [],
   "source": []
  },
  {
   "cell_type": "code",
   "execution_count": null,
   "metadata": {},
   "outputs": [],
   "source": []
  },
  {
   "cell_type": "code",
   "execution_count": null,
   "metadata": {},
   "outputs": [],
   "source": []
  },
  {
   "cell_type": "code",
   "execution_count": null,
   "metadata": {},
   "outputs": [],
   "source": []
  },
  {
   "cell_type": "code",
   "execution_count": null,
   "metadata": {},
   "outputs": [],
   "source": []
  },
  {
   "cell_type": "code",
   "execution_count": null,
   "metadata": {},
   "outputs": [],
   "source": []
  },
  {
   "cell_type": "code",
   "execution_count": 313,
   "metadata": {},
   "outputs": [],
   "source": [
    "passive_orders = {'ETH':{}}\n",
    "\n",
    "make_markets(liquid, mkt_snap, risk, passive_orders)"
   ]
  },
  {
   "cell_type": "code",
   "execution_count": 305,
   "metadata": {},
   "outputs": [
    {
     "data": {
      "text/plain": [
       "{'id': '3652978145',\n",
       " 'clientOrderId': None,\n",
       " 'timestamp': 1608418299000,\n",
       " 'datetime': '2020-12-19T22:51:39.000Z',\n",
       " 'lastTradeTimestamp': None,\n",
       " 'type': 'limit',\n",
       " 'timeInForce': None,\n",
       " 'postOnly': None,\n",
       " 'status': 'open',\n",
       " 'symbol': 'ETH/JPY',\n",
       " 'side': 'sell',\n",
       " 'price': 70001.0,\n",
       " 'stopPrice': None,\n",
       " 'amount': 0.01,\n",
       " 'filled': 0.0,\n",
       " 'cost': None,\n",
       " 'remaining': 0.01,\n",
       " 'average': 0.0,\n",
       " 'trades': [],\n",
       " 'fee': {'currency': 'JPY', 'cost': 0.0},\n",
       " 'info': {'id': 3652978145,\n",
       "  'order_type': 'limit',\n",
       "  'quantity': '0.01',\n",
       "  'disc_quantity': '0.0',\n",
       "  'iceberg_total_quantity': '0.0',\n",
       "  'side': 'sell',\n",
       "  'filled_quantity': '0.0',\n",
       "  'price': 70001.0,\n",
       "  'created_at': 1608418299,\n",
       "  'updated_at': 1608418299,\n",
       "  'status': 'live',\n",
       "  'leverage_level': 1,\n",
       "  'source_exchange': 'QUOINE',\n",
       "  'product_id': 29,\n",
       "  'margin_type': None,\n",
       "  'take_profit': None,\n",
       "  'stop_loss': None,\n",
       "  'trading_type': 'spot',\n",
       "  'product_code': 'CASH',\n",
       "  'funding_currency': 'JPY',\n",
       "  'crypto_account_id': None,\n",
       "  'currency_pair_code': 'ETHJPY',\n",
       "  'average_price': 0.0,\n",
       "  'target': 'spot',\n",
       "  'order_fee': 0.0,\n",
       "  'source_action': 'manual',\n",
       "  'unwound_trade_id': None,\n",
       "  'trade_id': None,\n",
       "  'client_order_id': None}}"
      ]
     },
     "execution_count": 305,
     "metadata": {},
     "output_type": "execute_result"
    }
   ],
   "source": [
    "liquid.create_order(symbol= 'ETH/JPY',\n",
    "        type= 'limit',\n",
    "        side= 'sell',\n",
    "        amount= 0.01,\n",
    "        price=70001)"
   ]
  },
  {
   "cell_type": "code",
   "execution_count": null,
   "metadata": {},
   "outputs": [],
   "source": []
  },
  {
   "cell_type": "code",
   "execution_count": null,
   "metadata": {},
   "outputs": [],
   "source": []
  },
  {
   "cell_type": "code",
   "execution_count": null,
   "metadata": {},
   "outputs": [],
   "source": []
  }
 ],
 "metadata": {
  "kernelspec": {
   "display_name": "Python 3",
   "language": "python",
   "name": "python3"
  },
  "language_info": {
   "codemirror_mode": {
    "name": "ipython",
    "version": 3
   },
   "file_extension": ".py",
   "mimetype": "text/x-python",
   "name": "python",
   "nbconvert_exporter": "python",
   "pygments_lexer": "ipython3",
   "version": "3.7.4"
  }
 },
 "nbformat": 4,
 "nbformat_minor": 4
}
